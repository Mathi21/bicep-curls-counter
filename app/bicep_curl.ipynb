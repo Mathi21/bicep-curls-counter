{
 "cells": [
  {
   "cell_type": "markdown",
   "id": "3aa5c250",
   "metadata": {},
   "source": [
    "## BICEP CURL COUNTER"
   ]
  },
  {
   "cell_type": "code",
   "execution_count": 1,
   "id": "c2b48701",
   "metadata": {},
   "outputs": [],
   "source": [
    "# dependency for live vedio feed \n",
    "import cv2 "
   ]
  },
  {
   "cell_type": "markdown",
   "id": "e672e88e",
   "metadata": {},
   "source": [
    "## Mediapipe detection in live video"
   ]
  },
  {
   "cell_type": "code",
   "execution_count": 2,
   "id": "5ea06cfd",
   "metadata": {},
   "outputs": [],
   "source": [
    "# dependency for detection \n",
    "import mediapipe as mp \n",
    "mp_pose = mp.solutions.pose \n",
    "mp_draw = mp.solutions.drawing_utils "
   ]
  },
  {
   "cell_type": "code",
   "execution_count": 5,
   "id": "802cf3e3",
   "metadata": {},
   "outputs": [],
   "source": [
    "def mediapipe_detection():\n",
    "    cap = cv2.VideoCapture(0)\n",
    "    with mp_pose.Pose() as pose: \n",
    "        while cap.isOpened():\n",
    "            _, frame = cap.read() \n",
    "\n",
    "            # change color from bgr to rgb \n",
    "            image = cv2.cvtColor(frame, cv2.COLOR_BGR2RGB)\n",
    "\n",
    "            result = pose.process(image)                             # returns result object with landmarks details\n",
    "\n",
    "            # drawing landmarks using details from result object\n",
    "            mp_draw.draw_landmarks(frame, result.pose_landmarks, mp_pose.POSE_CONNECTIONS,\n",
    "                                  mp_draw.DrawingSpec(color=(255,0,0), thickness=2, circle_radius=2),\n",
    "                                  mp_draw.DrawingSpec(color=(255,0,0), thickness=2, circle_radius=2))\n",
    "            cv2.imshow('Detected image', frame)\n",
    "\n",
    "            if cv2.waitKey(10) & 0xFF == ord('q'):                   # press q to stop live feed \n",
    "                break\n",
    "        \n",
    "        cap.release()\n",
    "        cv2.destroyAllWindows()\n",
    "        \n",
    "    return result"
   ]
  },
  {
   "cell_type": "markdown",
   "id": "0b634a2f",
   "metadata": {},
   "source": [
    "## Extracting necessary points or landmarks from the detected image "
   ]
  },
  {
   "cell_type": "code",
   "execution_count": 6,
   "id": "d81617a2",
   "metadata": {},
   "outputs": [],
   "source": [
    "# necessary points for counting bicep curl are \n",
    "# i)   shoulder point \n",
    "# ii)  elbow point \n",
    "# iii) wrist point\n",
    "\n",
    "result = mediapipe_detection()\n",
    "landmark = result.pose_landmarks.landmark"
   ]
  },
  {
   "cell_type": "code",
   "execution_count": 7,
   "id": "d9aa9487",
   "metadata": {},
   "outputs": [
    {
     "data": {
      "text/plain": [
       "33"
      ]
     },
     "execution_count": 7,
     "metadata": {},
     "output_type": "execute_result"
    }
   ],
   "source": [
    "len(landmark)"
   ]
  },
  {
   "cell_type": "code",
   "execution_count": 8,
   "id": "9c1c1a53",
   "metadata": {},
   "outputs": [
    {
     "data": {
      "text/plain": [
       "11"
      ]
     },
     "execution_count": 8,
     "metadata": {},
     "output_type": "execute_result"
    }
   ],
   "source": [
    "mp_pose.PoseLandmark.LEFT_SHOULDER.value              # index for left shoulder in landmark list"
   ]
  },
  {
   "cell_type": "code",
   "execution_count": 9,
   "id": "3da8b89e",
   "metadata": {},
   "outputs": [
    {
     "data": {
      "text/plain": [
       "x: 0.649353\n",
       "y: 0.3018976\n",
       "z: -0.16498305\n",
       "visibility: 0.99875444"
      ]
     },
     "execution_count": 9,
     "metadata": {},
     "output_type": "execute_result"
    }
   ],
   "source": [
    "landmark[mp_pose.PoseLandmark.LEFT_SHOULDER.value]   # co-ordinates for left shoulder"
   ]
  },
  {
   "cell_type": "code",
   "execution_count": 10,
   "id": "62bd69d5",
   "metadata": {},
   "outputs": [
    {
     "data": {
      "text/plain": [
       "13"
      ]
     },
     "execution_count": 10,
     "metadata": {},
     "output_type": "execute_result"
    }
   ],
   "source": [
    "mp_pose.PoseLandmark.LEFT_ELBOW.value              # index for left elbow in landmark list"
   ]
  },
  {
   "cell_type": "code",
   "execution_count": 11,
   "id": "334662bf",
   "metadata": {},
   "outputs": [
    {
     "data": {
      "text/plain": [
       "x: 0.6934205\n",
       "y: 0.61739045\n",
       "z: -0.014485715\n",
       "visibility: 0.86901474"
      ]
     },
     "execution_count": 11,
     "metadata": {},
     "output_type": "execute_result"
    }
   ],
   "source": [
    "landmark[mp_pose.PoseLandmark.LEFT_ELBOW.value]   # co-ordinates for left elbow"
   ]
  },
  {
   "cell_type": "code",
   "execution_count": 12,
   "id": "7d3677c9",
   "metadata": {},
   "outputs": [
    {
     "data": {
      "text/plain": [
       "15"
      ]
     },
     "execution_count": 12,
     "metadata": {},
     "output_type": "execute_result"
    }
   ],
   "source": [
    "mp_pose.PoseLandmark.LEFT_WRIST.value              # index for left wrist in landmark list "
   ]
  },
  {
   "cell_type": "code",
   "execution_count": 13,
   "id": "ebcc64e9",
   "metadata": {},
   "outputs": [
    {
     "data": {
      "text/plain": [
       "x: 0.7690108\n",
       "y: 0.86094964\n",
       "z: -0.12368449\n",
       "visibility: 0.7062197"
      ]
     },
     "execution_count": 13,
     "metadata": {},
     "output_type": "execute_result"
    }
   ],
   "source": [
    "landmark[mp_pose.PoseLandmark.LEFT_WRIST.value]   # co-ordinates for left wrist"
   ]
  },
  {
   "cell_type": "markdown",
   "id": "35d2c1fc",
   "metadata": {},
   "source": [
    "## Calculating angles for curl count "
   ]
  },
  {
   "cell_type": "code",
   "execution_count": 16,
   "id": "243bb002",
   "metadata": {},
   "outputs": [],
   "source": [
    "# dependency for calculating angles\n",
    "import numpy as np"
   ]
  },
  {
   "cell_type": "code",
   "execution_count": 17,
   "id": "28ed18a8",
   "metadata": {},
   "outputs": [],
   "source": [
    "def calculate_angle(a, b, c):\n",
    "    a = np.array(a)        # a is shoulder\n",
    "    b = np.array(b)        # b is elbow\n",
    "    c = np.array(c)        # c is wrist\n",
    "    \n",
    "    radians = np.arctan2(c[1]-b[1], c[0]-b[0]) - np.arctan2(a[1]-b[1], a[0]-b[0])\n",
    "    angles = np.abs((radians * 180)/np.pi)\n",
    "    \n",
    "    if angles > 180:\n",
    "        angles = 360 - angles\n",
    "        \n",
    "    return angles"
   ]
  },
  {
   "cell_type": "code",
   "execution_count": 18,
   "id": "47e5aa0c",
   "metadata": {},
   "outputs": [
    {
     "name": "stdout",
     "output_type": "stream",
     "text": [
      "[0.64935302734375, 0.3018975853919983]\n",
      "[0.6934205293655396, 0.6173904538154602]\n",
      "[0.7690107822418213, 0.8609496355056763]\n"
     ]
    }
   ],
   "source": [
    "shoulder_cords = [landmark[mp_pose.PoseLandmark.LEFT_SHOULDER.value].x, landmark[mp_pose.PoseLandmark.LEFT_SHOULDER.value].y]\n",
    "print(shoulder_cords)\n",
    "\n",
    "elbow_cords = [landmark[mp_pose.PoseLandmark.LEFT_ELBOW.value].x, landmark[mp_pose.PoseLandmark.LEFT_ELBOW.value].y]\n",
    "print(elbow_cords)\n",
    "\n",
    "wrist_cords = [landmark[mp_pose.PoseLandmark.LEFT_WRIST.value].x, landmark[mp_pose.PoseLandmark.LEFT_WRIST.value].y]\n",
    "print(wrist_cords)"
   ]
  },
  {
   "cell_type": "code",
   "execution_count": 19,
   "id": "7e84d84a",
   "metadata": {},
   "outputs": [
    {
     "name": "stdout",
     "output_type": "stream",
     "text": [
      "170.70944479116955\n"
     ]
    }
   ],
   "source": [
    "angle = calculate_angle(shoulder_cords, elbow_cords, wrist_cords)\n",
    "print(angle)"
   ]
  },
  {
   "cell_type": "markdown",
   "id": "b0ca8555",
   "metadata": {},
   "source": [
    "## Visualizing the virtual bicep-curl counter "
   ]
  },
  {
   "cell_type": "code",
   "execution_count": 45,
   "id": "65237a08",
   "metadata": {},
   "outputs": [],
   "source": [
    "def bicep_curl_count():\n",
    "    count = 0\n",
    "    count_r = 0\n",
    "    stage = None\n",
    "\n",
    "    cap = cv2.VideoCapture(0)\n",
    "    with mp_pose.Pose() as pose: \n",
    "        while cap.isOpened():\n",
    "            _, frame = cap.read() \n",
    "\n",
    "            # change color from bgr to rgb \n",
    "            image = cv2.cvtColor(frame, cv2.COLOR_BGR2RGB)\n",
    "\n",
    "            result = pose.process(image)                             # returns result object with landmarks details\n",
    "\n",
    "            try:\n",
    "                landmark = result.pose_landmarks.landmark\n",
    "\n",
    "                # extracting landmarks for left hand\n",
    "                shoulder_cords = [landmark[mp_pose.PoseLandmark.LEFT_SHOULDER.value].x, landmark[mp_pose.PoseLandmark.LEFT_SHOULDER.value].y]\n",
    "                elbow_cords = [landmark[mp_pose.PoseLandmark.LEFT_ELBOW.value].x, landmark[mp_pose.PoseLandmark.LEFT_ELBOW.value].y]\n",
    "                wrist_cords = [landmark[mp_pose.PoseLandmark.LEFT_WRIST.value].x, landmark[mp_pose.PoseLandmark.LEFT_WRIST.value].y]\n",
    "                \n",
    "                \n",
    "                # extracting landmarks for right hand\n",
    "                shoulder_cords_r = [landmark[mp_pose.PoseLandmark.RIGHT_SHOULDER.value].x, landmark[mp_pose.PoseLandmark.RIGHT_SHOULDER.value].y]\n",
    "                elbow_cords_r = [landmark[mp_pose.PoseLandmark.RIGHT_ELBOW.value].x, landmark[mp_pose.PoseLandmark.RIGHT_ELBOW.value].y]\n",
    "                wrist_cords_r = [landmark[mp_pose.PoseLandmark.RIGHT_WRIST.value].x, landmark[mp_pose.PoseLandmark.RIGHT_WRIST.value].y]\n",
    "     \n",
    "                \n",
    "                # calculating bicep-curl angle\n",
    "                bicep_angle = calculate_angle(shoulder_cords, elbow_cords, wrist_cords)\n",
    "                bicep_angle_r = calculate_angle(shoulder_cords_r, elbow_cords_r, wrist_cords_r)\n",
    "\n",
    "                # writing bicep_curl angle in the live frame \n",
    "                '''cv2.putText(frame, \"calculated angle\"+str(bicep_angle_r), (40,40), \n",
    "                           cv2.FONT_HERSHEY_SIMPLEX, 0.5, (0,0,0), 2, cv2.LINE_AA )'''\n",
    "\n",
    "                \n",
    "                # left bicep-curl counting\n",
    "                if(bicep_angle > 160): \n",
    "                    stage = \"down\"\n",
    "                    bicep_angle = 160\n",
    "                elif(bicep_angle < 15 and stage ==\"down\"):\n",
    "                    stage = \"up\"\n",
    "                    count += 1 \n",
    "                    bicep_angle = 15\n",
    "                else:\n",
    "                    bicep_angle = bicep_angle - 15\n",
    "                    \n",
    "                percen = (bicep_angle/145.0)*100\n",
    "                \n",
    "                val = int(percen)\n",
    "                if val > 100:\n",
    "                    val = 100\n",
    "                    cv2.rectangle(frame, (60, 100+val), (80, 200), (0,255,0), -1) \n",
    "                elif val < 0:\n",
    "                    val = 0\n",
    "                    cv2.rectangle(frame, (60, 100+val), (80, 200), (0,255,0), -1) \n",
    "                else:\n",
    "                    cv2.rectangle(frame, (60, 100+val), (80, 200), (0,0,255), -1)\n",
    "                    \n",
    "                cv2.rectangle(frame, (60,100), (80, 200), (0,0,0), 2)\n",
    "                \n",
    "                cv2.putText(frame, \"count \"+str(count), (40, 250), \n",
    "                           cv2.FONT_HERSHEY_SIMPLEX, 0.5, (0,0,0), 2, cv2.LINE_AA)\n",
    "                                \n",
    "                \n",
    "                # right bicep-curl counting\n",
    "                if(bicep_angle_r > 160): \n",
    "                    stage_r = \"down\"\n",
    "                    bicep_angle_r = 160\n",
    "                elif(bicep_angle_r < 15 and stage_r ==\"down\"):\n",
    "                    stage_r = \"up\"\n",
    "                    count_r += 1 \n",
    "                    bicep_angle_r = 15\n",
    "                else:\n",
    "                    bicep_angle_r = bicep_angle_r - 15\n",
    "                    \n",
    "                percent = (bicep_angle_r/145.0)*100\n",
    "                \n",
    "                val_r = int(percent)\n",
    "                if val_r > 100:\n",
    "                    val_r = 100\n",
    "                    cv2.rectangle(frame, (560, 100+val_r), (580, 200), (0,255,0), -1) \n",
    "                elif val_r < 0:\n",
    "                    val_r = 0\n",
    "                    cv2.rectangle(frame, (560, 100+val_r), (580, 200), (0,255,0), -1) \n",
    "                else:\n",
    "                    cv2.rectangle(frame, (560, 100+val_r), (580, 200), (0,0,255), -1)\n",
    "                    \n",
    "                cv2.rectangle(frame, (560,100), (580, 200), (0,0,0), 2)\n",
    "                \n",
    "                cv2.putText(frame, \"count \"+str(count_r), (540, 250), \n",
    "                           cv2.FONT_HERSHEY_SIMPLEX, 0.5, (0,0,0), 2, cv2.LINE_AA)\n",
    "                    \n",
    "                \n",
    "            except:\n",
    "                pass\n",
    "\n",
    "            # drawing landmarks using details from result object\n",
    "            mp_draw.draw_landmarks(frame, result.pose_landmarks, mp_pose.POSE_CONNECTIONS,\n",
    "                                  mp_draw.DrawingSpec(color=(255,0,0), thickness=2, circle_radius=2),\n",
    "                                  mp_draw.DrawingSpec(color=(255,0,0), thickness=2, circle_radius=2))\n",
    "            cv2.imshow('Bicep image', frame)\n",
    "\n",
    "            if cv2.waitKey(10) & 0xFF == ord('q'):                   # press q to stop live feed \n",
    "                break\n",
    "\n",
    "        cap.release()\n",
    "        cv2.destroyAllWindows()"
   ]
  },
  {
   "cell_type": "code",
   "execution_count": 47,
   "id": "b4de4b45",
   "metadata": {},
   "outputs": [],
   "source": [
    "bicep_curl_count()"
   ]
  }
 ],
 "metadata": {
  "kernelspec": {
   "display_name": "Python 3 (ipykernel)",
   "language": "python",
   "name": "python3"
  },
  "language_info": {
   "codemirror_mode": {
    "name": "ipython",
    "version": 3
   },
   "file_extension": ".py",
   "mimetype": "text/x-python",
   "name": "python",
   "nbconvert_exporter": "python",
   "pygments_lexer": "ipython3",
   "version": "3.11.4"
  }
 },
 "nbformat": 4,
 "nbformat_minor": 5
}
